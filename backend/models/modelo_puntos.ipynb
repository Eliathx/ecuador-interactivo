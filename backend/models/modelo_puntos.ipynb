{
 "cells": [
  {
   "cell_type": "markdown",
   "id": "bacf7a6a",
   "metadata": {},
   "source": [
    "# Ecuador Interactivo\n",
    "\n",
    "## Alumnos:\n",
    "* Angel Chuncho\n",
    "* Eliath Velasco\n",
    "* Jhoel Narvaez\n",
    "* Santiago Murillo\n",
    "* Stalin Yungan\n",
    "\n",
    "Este modelo de Machine Learning predice la cantidad de puntos que un niño puede obtener por cada pregunta.\n",
    "El modelo está entrenado con el tiempo que tarda en responder (tiempo_respuesta), la dificultad asignada a la provincia preguntada (provincia_dificultad), la edad del niño (edad), la cantidad de vidas que utilizó antes de acertar (vidas_usadas) y si respondió correctamente o no (es_correcto).\n",
    "Estas variables se combinan para generar una puntuación justa y adaptativa que premia a los niños más pequeños, los que responden correctamente con rapidez y precisión, y aquellos que aciertan en preguntas difíciles.\n",
    "\n",
    "El objetivo es mantener la experiencia lúdica y motivadora.\n"
   ]
  },
  {
   "cell_type": "markdown",
   "id": "e809bee1",
   "metadata": {},
   "source": [
    "## Librerías"
   ]
  },
  {
   "cell_type": "code",
   "execution_count": null,
   "id": "a678ef8b",
   "metadata": {},
   "outputs": [],
   "source": [
    "import pandas as pd\n",
    "from sklearn.model_selection import train_test_split\n",
    "from sklearn.ensemble import RandomForestRegressor\n",
    "import joblib"
   ]
  },
  {
   "cell_type": "markdown",
   "id": "8c529df3",
   "metadata": {},
   "source": [
    "## Modelo"
   ]
  },
  {
   "cell_type": "code",
   "execution_count": null,
   "id": "4963e12c",
   "metadata": {},
   "outputs": [],
   "source": [
    "# Cargar dataset\n",
    "ruta_archivo = \"/content/datos_juego.xlsx\"\n",
    "df = pd.read_excel(ruta_archivo)\n",
    "\n",
    "# Variables predictoras (X) y objetivo (Y)\n",
    "X = df[[\"tiempo_respuesta\", \"provincia_dificultad\", \"edad\", \"vidas_usadas\", \"es_correcto\"]]\n",
    "y = df[\"puntos\"]\n",
    "\n",
    "# Entrenar\n",
    "X_train, X_test, y_train, y_test = train_test_split(X, y, test_size=0.2, random_state=42)\n",
    "\n",
    "modelo = RandomForestRegressor(n_estimators=100, random_state=42)\n",
    "modelo.fit(X_train, y_train)\n",
    "\n",
    "y_pred = modelo.predict(X_test)\n",
    "\n",
    "# Ejemplo de predicción\n",
    "nueva_entrada = pd.DataFrame([{\n",
    "    \"tiempo_respuesta\": 20,\n",
    "    \"provincia_dificultad\": 3,\n",
    "    \"edad\": 4,\n",
    "    \"vidas_usadas\": 0,\n",
    "    \"es_correcto\": 1\n",
    "}])\n",
    "\n",
    "puntos_estimados = modelo.predict(nueva_entrada)[0]\n",
    "print(f\"Puntos estimados para esa pregunta: {puntos_estimados:.2f}\")"
   ]
  },
  {
   "cell_type": "markdown",
   "id": "390dd268",
   "metadata": {},
   "source": [
    "## Guardar Modelo"
   ]
  },
  {
   "cell_type": "code",
   "execution_count": null,
   "id": "477fb970",
   "metadata": {},
   "outputs": [],
   "source": [
    "joblib.dump(modelo, \"modelo_puntos.pkl\")"
   ]
  }
 ],
 "metadata": {
  "language_info": {
   "name": "python"
  }
 },
 "nbformat": 4,
 "nbformat_minor": 5
}
